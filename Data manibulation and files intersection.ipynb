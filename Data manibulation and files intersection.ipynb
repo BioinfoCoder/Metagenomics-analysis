{
  "nbformat": 4,
  "nbformat_minor": 0,
  "metadata": {
    "colab": {
      "provenance": [],
      "toc_visible": true,
      "authorship_tag": "ABX9TyO3Us+DeLt6DkFEodlmZRB2",
      "include_colab_link": true
    },
    "kernelspec": {
      "name": "python3",
      "display_name": "Python 3"
    },
    "language_info": {
      "name": "python"
    }
  },
  "cells": [
    {
      "cell_type": "markdown",
      "metadata": {
        "id": "view-in-github",
        "colab_type": "text"
      },
      "source": [
        "<a href=\"https://colab.research.google.com/github/BioinfoCoder/Metagenomics-analysis/blob/main/Data%20manibulation%20and%20files%20intersection.ipynb\" target=\"_parent\"><img src=\"https://colab.research.google.com/assets/colab-badge.svg\" alt=\"Open In Colab\"/></a>"
      ]
    },
    {
      "cell_type": "code",
      "source": [
        "---\n",
        "title: \"Files Intersections by Means and Remove Duplicate Bioinformatics Data Management\"\n",
        "author: \"Your Name\"\n",
        "date: \"`r Sys.Date()`\"\n",
        "output: html_document\n",
        "---\n",
        "\n",
        "```{r}\n",
        "# Load necessary libraries\n",
        "library(dplyr)\n",
        "library(readxl)\n",
        "\n",
        "# Step 1: Read in data\n",
        "ni <- read.csv(\"Naive.csv\")\n",
        "na <- read.csv(\"Nash model.csv\")\n",
        "comp <- read.csv(\"Rosavin + zbiotics.csv\")\n",
        "r <- read.csv(\"Rosavin.csv\")\n",
        "z <- read.csv(\"zbiotic.csv\")\n",
        "\n",
        "# Step 2: Filter and summarize data by genus\n",
        "process_data <- function(data, filename) {\n",
        "  filtered_data <- data %>%\n",
        "    filter(Size > 2) %>%\n",
        "    group_by(genus) %>%\n",
        "    summarize(mean_size = mean(Size, na.rm = TRUE))\n",
        "  write.csv(filtered_data, filename)\n",
        "}\n",
        "\n",
        "process_data(ni, \"~/Downloads/naive_mean.csv\")\n",
        "process_data(na, \"~/Downloads/nash_mean.csv\")\n",
        "process_data(comp, \"~/Downloads/comp_mean.csv\")\n",
        "process_data(z, \"~/Downloads/zbiotic_mean.csv\")\n",
        "process_data(r, \"~/Downloads/rosavin_mean.csv\")\n",
        "\n",
        "# Step 3: Read processed mean size files\n",
        "ni_m <- read.csv(\"~/Downloads/naive_mean.csv\")\n",
        "na_m <- read.csv(\"~/Downloads/nash_mean.csv\")\n",
        "comp_m <- read.csv(\"~/Downloads/comp_mean.csv\")\n",
        "r_m <- read.csv(\"~/Downloads/rosavin_mean.csv\")\n",
        "z_m <- read.csv(\"~/Downloads/zbiotic_mean.csv\")\n",
        "\n",
        "# Step 4: Identify common genera across datasets\n",
        "lst17 <- list(ni_m[,2], na_m[,2], comp_m[,2], r_m[,2], z_m[,2])\n",
        "intsct <- Reduce(intersect, lst17)\n",
        "\n",
        "# Step 5: Combine mean size values for intersected genera\n",
        "rownames(ni_m) <- ni_m[,2]\n",
        "rownames(na_m) <- na_m[,2]\n",
        "rownames(comp_m) <- comp_m[,2]\n",
        "rownames(r_m) <- r_m[,2]\n",
        "rownames(z_m) <- z_m[,2]\n",
        "\n",
        "counts <- data.frame(intsct,\n",
        "                     ni_m[intsct, 3],\n",
        "                     na_m[intsct, 3],\n",
        "                     comp_m[intsct, 3],\n",
        "                     r_m[intsct, 3],\n",
        "                     z_m[intsct, 3])\n",
        "\n",
        "# Step 6: Save the combined results\n",
        "write.csv(counts, \"~/Downloads/count_total.csv\")\n"
      ],
      "metadata": {
        "id": "fjhv6LGJWdwS"
      },
      "execution_count": null,
      "outputs": []
    }
  ]
}